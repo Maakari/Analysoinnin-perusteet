{
 "cells": [
  {
   "cell_type": "code",
   "execution_count": 14,
   "metadata": {},
   "outputs": [
    {
     "name": "stdout",
     "output_type": "stream",
     "text": [
      "Printer app\n",
      "This app is printed by\n",
      "The value of number 1 is 1\n",
      "The value of number 2 is 2\n",
      "1 + 2 = 3\n",
      "1 * 2 = 2\n",
      "1 / 2 = 0.5\n"
     ]
    }
   ],
   "source": [
    "print (\"Printer app\")\n",
    "print(\"This app is printed by\")\n",
    "creator = \"niklas\"\n",
    "number1=1\n",
    "number2=2\n",
    "multiplication= number1+number2\n",
    "division=number1*number2\n",
    "substraction=number1/number2\n",
    "#print (number1)\n",
    "\n",
    "print (\"The value of number 1 is\", number1)\n",
    "print (\"The value of number 2 is\", number2)\n",
    "multiplication= number1+number2\n",
    "print(number1, \"+\", number2,\"=\",multiplication)\n",
    "\n",
    "print(number1, \"*\", number2,\"=\",division)\n",
    "print(number1, \"/\", number2,\"=\",substraction)"
   ]
  }
 ],
 "metadata": {
  "kernelspec": {
   "display_name": "Python 3",
   "language": "python",
   "name": "python3"
  },
  "language_info": {
   "codemirror_mode": {
    "name": "ipython",
    "version": 3
   },
   "file_extension": ".py",
   "mimetype": "text/x-python",
   "name": "python",
   "nbconvert_exporter": "python",
   "pygments_lexer": "ipython3",
   "version": "3.12.0"
  }
 },
 "nbformat": 4,
 "nbformat_minor": 2
}
