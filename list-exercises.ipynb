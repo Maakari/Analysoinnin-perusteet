{
 "cells": [
  {
   "cell_type": "code",
   "execution_count": 35,
   "metadata": {},
   "outputs": [
    {
     "name": "stdout",
     "output_type": "stream",
     "text": [
      "['table', 'chair', 'shelf', 'sofa']\n",
      "['table', 'chair']\n",
      "3\n"
     ]
    }
   ],
   "source": [
    "furnitures = [\"table\", \"chair\", \"shelf\", \"sofa\"]\n",
    "\n",
    "print (furnitures)\n",
    "\n",
    "print (furnitures[0:2])\n",
    "\n",
    "try:\n",
    "    print(furnitures.index(\"sofa\"))\n",
    "except ValueError:\n",
    "    print(\"That item does not exist\")"
   ]
  },
  {
   "cell_type": "code",
   "execution_count": 36,
   "metadata": {},
   "outputs": [
    {
     "name": "stdout",
     "output_type": "stream",
     "text": [
      "[3, 4, 5, 7, 8]\n",
      "27\n",
      "8\n"
     ]
    }
   ],
   "source": [
    "thrownDiceNumbers = [3,4,5,7,8]\n",
    "\n",
    "print (thrownDiceNumbers)\n",
    "\n",
    "Sum = sum(thrownDiceNumbers)\n",
    "print(Sum)\n",
    "\n",
    "thrownDiceNumbers.sort()\n",
    "\n",
    "print(thrownDiceNumbers[-1])"
   ]
  }
 ],
 "metadata": {
  "kernelspec": {
   "display_name": "Python 3",
   "language": "python",
   "name": "python3"
  },
  "language_info": {
   "codemirror_mode": {
    "name": "ipython",
    "version": 3
   },
   "file_extension": ".py",
   "mimetype": "text/x-python",
   "name": "python",
   "nbconvert_exporter": "python",
   "pygments_lexer": "ipython3",
   "version": "3.12.0"
  }
 },
 "nbformat": 4,
 "nbformat_minor": 2
}
