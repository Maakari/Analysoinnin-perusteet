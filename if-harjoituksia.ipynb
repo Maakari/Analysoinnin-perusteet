{
 "cells": [
  {
   "cell_type": "code",
   "execution_count": 22,
   "metadata": {},
   "outputs": [
    {
     "name": "stdout",
     "output_type": "stream",
     "text": [
      "numero1 on isompi\n",
      "Numero1 ei ole numero2\n",
      "False\n",
      "Eri nimet\n"
     ]
    }
   ],
   "source": [
    "number1=5\n",
    "number2=10\n",
    "number3=15\n",
    "if number1==number2:\n",
    "    print (\"Numerot on yhtäsuuret\")\n",
    "\n",
    "if number1<=number2:\n",
    "    print (\"numero1 on isompi\")\n",
    "\n",
    "if number1!=number2:\n",
    "    print (\"Numero1 ei ole numero2\")\n",
    "    \n",
    "if number1==number2==number3:\n",
    "    print (\"kaikki on yhtäsuuria\")\n",
    "\n",
    "if number1==number2>=number3:\n",
    "    print (\"numerot on erisuuria\")\n",
    "\n",
    "print(number1<number2 and number1>number3)\n",
    "\n",
    "if number1>number2:\n",
    "    print(\"1 on isompi\")\n",
    "elif number2>number3:\n",
    "    print(\"2 on isompi\")\n",
    "\n",
    "\n",
    "\n",
    "name1= \"Jorma\"\n",
    "name2=\"Pertti\"\n",
    "name3=\"Sampo\"\n",
    "\n",
    "if name1==name2:\n",
    "    print(\"Samat nimet\")\n",
    "if name1!=name2:\n",
    "    print(\"Eri nimet\")\n",
    "if name1==name2:\n",
    "    print(\"Samat nimet\")\n",
    "elif name2==name3:\n",
    "    print(\"Samat nimet\")\n",
    "    \n"
   ]
  }
 ],
 "metadata": {
  "kernelspec": {
   "display_name": "Python 3",
   "language": "python",
   "name": "python3"
  },
  "language_info": {
   "codemirror_mode": {
    "name": "ipython",
    "version": 3
   },
   "file_extension": ".py",
   "mimetype": "text/x-python",
   "name": "python",
   "nbconvert_exporter": "python",
   "pygments_lexer": "ipython3",
   "version": "3.12.0"
  }
 },
 "nbformat": 4,
 "nbformat_minor": 2
}
